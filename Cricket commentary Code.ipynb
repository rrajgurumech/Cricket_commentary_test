{
 "cells": [
  {
   "cell_type": "code",
   "execution_count": 1,
   "metadata": {},
   "outputs": [],
   "source": [
    "import pandas as pd\n",
    "from pycricbuzz import Cricbuzz\n",
    "c = Cricbuzz()"
   ]
  },
  {
   "cell_type": "code",
   "execution_count": 2,
   "metadata": {},
   "outputs": [
    {
     "name": "stdout",
     "output_type": "stream",
     "text": [
      "[{'id': '29058', 'srs': 'West Indies tour of England 2020', 'mnum': '3rd Test', 'type': 'TEST', 'mchstate': 'inprogress', 'status': 'Day 1: 2nd Session - WI opt to bowl', 'venue_name': 'Emirates Old Trafford', 'venue_location': 'Manchester, England', 'toss': 'West Indies elect to bowl', 'official': {'umpire1': {'id': '8034', 'name': 'Michael Gough', 'country': 'ENG'}, 'umpire2': {'id': '6866', 'name': 'Richard Kettleborough', 'country': 'ENG'}, 'umpire3': {'id': '5398', 'name': 'Richard Illingworth', 'country': 'ENG'}, 'referee': {'id': '5353', 'name': 'Chris Broad', 'country': 'ENG'}}, 'start_time': '2020-07-24 15:30:00', 'team1': {'name': 'England', 'squad': ['Rory Burns', 'Sibley', 'Root', 'Stokes', 'Ollie Pope', 'Buttler', 'Woakes', 'Dom Bess', 'Jofra Archer', 'Broad', 'Anderson'], 'squad_bench': ['Zak Crawley', 'Sam Curran', 'Mark Wood']}, 'team2': {'name': 'West Indies', 'squad': ['Kraigg Brathwaite', 'John Campbell', 'Shai Hope', 'Shamarh Brooks', 'Roston Chase', 'Blackwood', 'Dowrich', 'Holder', 'Cornwall', 'Roach', 'Gabriel'], 'squad_bench': ['Bonner', 'R Reifer', 'Chemar', 'Alzarri Joseph']}}, {'id': '29553', 'srs': 'Pakistan tour of England 2020', 'mnum': '2nd Warm-up Match', 'type': 'TEST', 'mchstate': 'lunch', 'status': 'Day 1: Lunch Break - PAKWT opt to bowl', 'venue_name': 'County Ground', 'venue_location': 'Derby, England', 'toss': 'Team White elect to bowl', 'official': {'umpire1': {'id': '5475', 'name': 'Alex Wharf', 'country': 'ENG'}, 'umpire2': {'id': '7594', 'name': 'Steve OShaughnessy', 'country': 'ENG'}}, 'start_time': '2020-07-24 15:30:00', 'team1': {'name': 'Team White', 'squad': ['Imam', 'Fakhar Zaman', 'Haider Ali', 'Fawad Alam', 'Iftikhar Ahmed', 'Sarfaraz', 'Faheem Ashraf', 'Sohail Khan', 'Usman Shinwari', 'Imran Khan', 'Kashif Bhatti'], 'squad_bench': []}, 'team2': {'name': 'Team Green', 'squad': ['Masood', 'Abid Ali', 'Azhar Ali', 'Babar Azam', 'Shafiq', 'Rizwan', 'Shadab Khan', 'Yasir Shah', 'Abbas', 'Shaheen Afridi', 'Naseem Shah'], 'squad_bench': []}}]\n"
     ]
    }
   ],
   "source": [
    "print(c.matches())"
   ]
  },
  {
   "cell_type": "code",
   "execution_count": 8,
   "metadata": {},
   "outputs": [
    {
     "name": "stdout",
     "output_type": "stream",
     "text": [
      "{'commentary': [{'comm': 'Gabriel to Rory Burns, no run, sprays it down leg and Burns is not bothered with that line', 'over': '42.3'}, {'comm': 'Back over the wicket', 'over': None}, {'comm': \"Gabriel to Rory Burns, no run, it is short alright but way outside off, so far that Burns' attempted cut shot comes off the toe-end and rolls back to Dowrich\", 'over': '42.2'}, {'comm': 'Round the wicket to Burns. Leg gully comes in and there are two men in the deep for the pull/hook', 'over': None}, {'comm': \"Gabriel to Ollie Pope, 1 run, well-judged single. Gabriel is not happy but there's not much the fielder could have done there. Pope taps it into the vacant cover region and races across before Campbell swoops down from mid-off\", 'over': '42.1'}, {'comm': 'Cornwall to Rory Burns, no run, fraction short in length and Burns hangs back to keep it out', 'over': '41.6'}, {'comm': 'Cornwall to Rory Burns, no run, 58mph slider which hurries Burns into turning it into the leg-side', 'over': '41.5'}, {'comm': 'Cornwall to Rory Burns, no run, slowed up cleverly and Burns waits to check his forward defence', 'over': '41.4'}, {'comm': 'Silly mid-on in', 'over': None}, {'comm': 'Cornwall to Rory Burns, no run, flatter and attacking the stumps, Burns defends it to short leg', 'over': '41.3'}, {'comm': 'Cornwall to Rory Burns, no run, drifting in from round the wicket and Burns inside halves the block to mid-wicket', 'over': '41.2'}, {'comm': 'Cornwall to Rory Burns, <b>FOUR</b>, loosener right after drinks. Burns smashes the cut in front of square, bit uppish but was in the gap all along and raced away to the boundary rope', 'over': '41.1'}, {'comm': \"<b>Drinks then</b>. It's been an hour when batting's looked quite easy and the bowling quite toothless, but the West Indies will take the boasting rights with (the half-fit) Stokes' wicket. Yea, that's how annoying he's been for them ..\", 'over': None}, {'comm': 'Gabriel to Ollie Pope, no run, neat quick yorker, Pope falls a touch, but jams it to mid-on rather well', 'over': '40.6'}, {'comm': 'Gabriel to Rory Burns, 1 run, 136kph, gets it too straight on the ribs, and gets fended away round the corner. Meanwhile, <b>an absolute no-fuss fifty this</b> without anybody even realizing', 'over': '40.5'}, {'comm': 'Okay, round the wicket. Two slips. Gully.', 'over': None}, {'comm': 'Gabriel to Rory Burns, no run, 140kph, short, but angling across wide, harmlessly to be sitting to', 'over': '40.4'}, {'comm': 'Gabriel to Rory Burns, no run, 141kph, full, on middle, jammed out to mid-on', 'over': '40.3'}, {'comm': 'Gabriel to Rory Burns, no run, 134kph, full, fourth-stump, head-on-ball block', 'over': '40.2'}, {'comm': 'Gabriel to Rory Burns, no run, 132kph, shorter than a good length, angling away around off. Shuffling, back-footed, defence', 'over': '40.1'}, {'comm': '<b>Shannon Gabriel [7.2-2-13-0] is back into the attack</b>', 'over': None}, {'comm': 'Cornwall to Ollie Pope, no run, tummy-lined, Pope tries to jab it away but the in-spin then gets big on him and smashes the thighs', 'over': '39.6'}, {'comm': 'Cornwall to Ollie Pope, no run, back, lining up, blocking out', 'over': '39.5'}, {'comm': \"Cornwall to Rory Burns, 1 run, short again, and the mistimed punch coupled with the ball spitting up off the practice pitches in front of point into Chase's face makes it an easy single eventually\", 'over': '39.4'}, {'comm': 'Cornwall to Rory Burns, no run, quite short. Punched off the back foot to point', 'over': '39.3'}, {'comm': 'Slip. Short leg. Silly short mid-wicket.', 'over': None}, {'comm': 'Cornwall to Ollie Pope, 3 runs, a bit of a step down, to the pitch of it for a change as he flicks away through mid-wicket', 'over': '39.2'}, {'comm': 'Cornwall to Ollie Pope, no run, on off, for the leaning forward smother', 'over': '39.1'}]}\n"
     ]
    }
   ],
   "source": [
    "print(c.commentary('29058'))"
   ]
  },
  {
   "cell_type": "code",
   "execution_count": 9,
   "metadata": {},
   "outputs": [],
   "source": [
    "a = c.commentary('29058')"
   ]
  },
  {
   "cell_type": "code",
   "execution_count": 10,
   "metadata": {},
   "outputs": [
    {
     "data": {
      "text/plain": [
       "dict"
      ]
     },
     "execution_count": 10,
     "metadata": {},
     "output_type": "execute_result"
    }
   ],
   "source": [
    "type(a)"
   ]
  },
  {
   "cell_type": "code",
   "execution_count": 24,
   "metadata": {},
   "outputs": [],
   "source": [
    "test= a.get('commentary')"
   ]
  },
  {
   "cell_type": "code",
   "execution_count": 25,
   "metadata": {},
   "outputs": [
    {
     "data": {
      "text/plain": [
       "list"
      ]
     },
     "execution_count": 25,
     "metadata": {},
     "output_type": "execute_result"
    }
   ],
   "source": [
    "type(test)"
   ]
  },
  {
   "cell_type": "code",
   "execution_count": 26,
   "metadata": {},
   "outputs": [],
   "source": [
    "over = []\n",
    "commen = []"
   ]
  },
  {
   "cell_type": "code",
   "execution_count": 34,
   "metadata": {},
   "outputs": [
    {
     "data": {
      "text/plain": [
       "'Back over the wicket'"
      ]
     },
     "execution_count": 34,
     "metadata": {},
     "output_type": "execute_result"
    }
   ],
   "source": [
    "test[1].get('comm')"
   ]
  },
  {
   "cell_type": "code",
   "execution_count": 35,
   "metadata": {},
   "outputs": [
    {
     "data": {
      "text/plain": [
       "28"
      ]
     },
     "execution_count": 35,
     "metadata": {},
     "output_type": "execute_result"
    }
   ],
   "source": [
    "len(test)"
   ]
  },
  {
   "cell_type": "code",
   "execution_count": 38,
   "metadata": {},
   "outputs": [],
   "source": [
    "for i in range(0,len(test)):\n",
    "    over.append(test[i].get('over'))\n",
    "    commen.append(test[i].get('comm'))"
   ]
  },
  {
   "cell_type": "code",
   "execution_count": 42,
   "metadata": {},
   "outputs": [],
   "source": [
    "df = pd.read_excel(r\"C:\\Users\\rrajguru\\Desktop\\Cricket Rajguru\\Commentary.xlsx\")"
   ]
  },
  {
   "cell_type": "code",
   "execution_count": 45,
   "metadata": {},
   "outputs": [],
   "source": [
    "df['over'] = over"
   ]
  },
  {
   "cell_type": "code",
   "execution_count": 47,
   "metadata": {},
   "outputs": [],
   "source": [
    "df['commentary'] = commen"
   ]
  },
  {
   "cell_type": "code",
   "execution_count": 48,
   "metadata": {},
   "outputs": [],
   "source": [
    "df.to_excel(r\"C:\\Users\\rrajguru\\Desktop\\Cricket Rajguru\\Commentary.xlsx\")"
   ]
  },
  {
   "cell_type": "code",
   "execution_count": 49,
   "metadata": {},
   "outputs": [
    {
     "data": {
      "text/html": [
       "<div>\n",
       "<style scoped>\n",
       "    .dataframe tbody tr th:only-of-type {\n",
       "        vertical-align: middle;\n",
       "    }\n",
       "\n",
       "    .dataframe tbody tr th {\n",
       "        vertical-align: top;\n",
       "    }\n",
       "\n",
       "    .dataframe thead th {\n",
       "        text-align: right;\n",
       "    }\n",
       "</style>\n",
       "<table border=\"1\" class=\"dataframe\">\n",
       "  <thead>\n",
       "    <tr style=\"text-align: right;\">\n",
       "      <th></th>\n",
       "      <th>over</th>\n",
       "      <th>commentary</th>\n",
       "    </tr>\n",
       "  </thead>\n",
       "  <tbody>\n",
       "    <tr>\n",
       "      <th>0</th>\n",
       "      <td>42.3</td>\n",
       "      <td>Gabriel to Rory Burns, no run, sprays it down ...</td>\n",
       "    </tr>\n",
       "    <tr>\n",
       "      <th>1</th>\n",
       "      <td>None</td>\n",
       "      <td>Back over the wicket</td>\n",
       "    </tr>\n",
       "    <tr>\n",
       "      <th>2</th>\n",
       "      <td>42.2</td>\n",
       "      <td>Gabriel to Rory Burns, no run, it is short alr...</td>\n",
       "    </tr>\n",
       "    <tr>\n",
       "      <th>3</th>\n",
       "      <td>None</td>\n",
       "      <td>Round the wicket to Burns. Leg gully comes in ...</td>\n",
       "    </tr>\n",
       "    <tr>\n",
       "      <th>4</th>\n",
       "      <td>42.1</td>\n",
       "      <td>Gabriel to Ollie Pope, 1 run, well-judged sing...</td>\n",
       "    </tr>\n",
       "    <tr>\n",
       "      <th>...</th>\n",
       "      <td>...</td>\n",
       "      <td>...</td>\n",
       "    </tr>\n",
       "    <tr>\n",
       "      <th>79</th>\n",
       "      <td>39.4</td>\n",
       "      <td>Cornwall to Rory Burns, 1 run, short again, an...</td>\n",
       "    </tr>\n",
       "    <tr>\n",
       "      <th>80</th>\n",
       "      <td>39.3</td>\n",
       "      <td>Cornwall to Rory Burns, no run, quite short. P...</td>\n",
       "    </tr>\n",
       "    <tr>\n",
       "      <th>81</th>\n",
       "      <td>None</td>\n",
       "      <td>Slip. Short leg. Silly short mid-wicket.</td>\n",
       "    </tr>\n",
       "    <tr>\n",
       "      <th>82</th>\n",
       "      <td>39.2</td>\n",
       "      <td>Cornwall to Ollie Pope, 3 runs, a bit of a ste...</td>\n",
       "    </tr>\n",
       "    <tr>\n",
       "      <th>83</th>\n",
       "      <td>39.1</td>\n",
       "      <td>Cornwall to Ollie Pope, no run, on off, for th...</td>\n",
       "    </tr>\n",
       "  </tbody>\n",
       "</table>\n",
       "<p>84 rows × 2 columns</p>\n",
       "</div>"
      ],
      "text/plain": [
       "    over                                         commentary\n",
       "0   42.3  Gabriel to Rory Burns, no run, sprays it down ...\n",
       "1   None                               Back over the wicket\n",
       "2   42.2  Gabriel to Rory Burns, no run, it is short alr...\n",
       "3   None  Round the wicket to Burns. Leg gully comes in ...\n",
       "4   42.1  Gabriel to Ollie Pope, 1 run, well-judged sing...\n",
       "..   ...                                                ...\n",
       "79  39.4  Cornwall to Rory Burns, 1 run, short again, an...\n",
       "80  39.3  Cornwall to Rory Burns, no run, quite short. P...\n",
       "81  None           Slip. Short leg. Silly short mid-wicket.\n",
       "82  39.2  Cornwall to Ollie Pope, 3 runs, a bit of a ste...\n",
       "83  39.1  Cornwall to Ollie Pope, no run, on off, for th...\n",
       "\n",
       "[84 rows x 2 columns]"
      ]
     },
     "execution_count": 49,
     "metadata": {},
     "output_type": "execute_result"
    }
   ],
   "source": [
    "df"
   ]
  },
  {
   "cell_type": "code",
   "execution_count": null,
   "metadata": {},
   "outputs": [],
   "source": []
  }
 ],
 "metadata": {
  "kernelspec": {
   "display_name": "Python 3",
   "language": "python",
   "name": "python3"
  },
  "language_info": {
   "codemirror_mode": {
    "name": "ipython",
    "version": 3
   },
   "file_extension": ".py",
   "mimetype": "text/x-python",
   "name": "python",
   "nbconvert_exporter": "python",
   "pygments_lexer": "ipython3",
   "version": "3.7.6"
  }
 },
 "nbformat": 4,
 "nbformat_minor": 4
}
